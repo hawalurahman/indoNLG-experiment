{
 "cells": [
  {
   "cell_type": "markdown",
   "id": "68fb35cd-49a2-4c56-9b88-c5f59e8266b1",
   "metadata": {},
   "source": [
    "# Finetuning ID -> SU using IndoBART"
   ]
  },
  {
   "cell_type": "code",
   "execution_count": 1,
   "id": "8dbf957d-5ecd-4bb3-9783-924e3616b596",
   "metadata": {
    "scrolled": true,
    "tags": []
   },
   "outputs": [],
   "source": [
    "import os, sys\n",
    "sys.path.append('../')\n",
    "os.chdir('../')\n",
    "\n",
    "import torch\n",
    "import shutil\n",
    "import random\n",
    "import numpy as np\n",
    "import pandas as pd\n",
    "from torch import optim\n",
    "from transformers import MBartForConditionalGeneration\n",
    "\n",
    "# from indobenchmark import IndoNLGTokenizer\n",
    "from modules.temporary_pad import IndoNLGTokenizerHalim as IndoNLGTokenizer\n",
    "from utils.train_eval import train, evaluate\n",
    "from utils.metrics import generation_metrics_fn\n",
    "from utils.forward_fn import forward_generation\n",
    "from utils.data_utils import MachineTranslationDataset, GenerationDataLoader"
   ]
  },
  {
   "cell_type": "code",
   "execution_count": 2,
   "id": "0598507a-1fc4-433e-bbce-1d5356b6e5b7",
   "metadata": {},
   "outputs": [],
   "source": [
    "###\n",
    "# common functions\n",
    "###\n",
    "def set_seed(seed):\n",
    "    random.seed(seed)\n",
    "    np.random.seed(seed)\n",
    "    torch.manual_seed(seed)\n",
    "    torch.cuda.manual_seed(seed)\n",
    "    \n",
    "def count_param(module, trainable=False):\n",
    "    if trainable:\n",
    "        return sum(p.numel() for p in module.parameters() if p.requires_grad)\n",
    "    else:\n",
    "        return sum(p.numel() for p in module.parameters())\n",
    "    \n",
    "# Set random seed\n",
    "# set_seed(26092020)"
   ]
  },
  {
   "cell_type": "markdown",
   "id": "a7b9ab88-51d3-42dc-b982-954141c25270",
   "metadata": {},
   "source": [
    "# Load Model"
   ]
  },
  {
   "cell_type": "code",
   "execution_count": 3,
   "id": "3ed9ab7a-a6d6-4b02-a864-ce18fbcbba1a",
   "metadata": {
    "scrolled": true,
    "tags": []
   },
   "outputs": [
    {
     "name": "stderr",
     "output_type": "stream",
     "text": [
      "The tokenizer class you load from this checkpoint is not the same type as the class this function is called from. It may result in unexpected tokenization. \n",
      "The tokenizer class you load from this checkpoint is 'IndoNLGTokenizer'. \n",
      "The class this function is called from is 'IndoNLGTokenizerHalim'.\n"
     ]
    },
    {
     "data": {
      "text/plain": [
       "MBartForConditionalGeneration(\n",
       "  (model): MBartModel(\n",
       "    (shared): MBartScaledWordEmbedding(40004, 768, padding_idx=1)\n",
       "    (encoder): MBartEncoder(\n",
       "      (embed_tokens): MBartScaledWordEmbedding(40004, 768, padding_idx=1)\n",
       "      (embed_positions): MBartLearnedPositionalEmbedding(1026, 768)\n",
       "      (layers): ModuleList(\n",
       "        (0): MBartEncoderLayer(\n",
       "          (self_attn): MBartAttention(\n",
       "            (k_proj): Linear(in_features=768, out_features=768, bias=True)\n",
       "            (v_proj): Linear(in_features=768, out_features=768, bias=True)\n",
       "            (q_proj): Linear(in_features=768, out_features=768, bias=True)\n",
       "            (out_proj): Linear(in_features=768, out_features=768, bias=True)\n",
       "          )\n",
       "          (self_attn_layer_norm): LayerNorm((768,), eps=1e-05, elementwise_affine=True)\n",
       "          (activation_fn): GELUActivation()\n",
       "          (fc1): Linear(in_features=768, out_features=3072, bias=True)\n",
       "          (fc2): Linear(in_features=3072, out_features=768, bias=True)\n",
       "          (final_layer_norm): LayerNorm((768,), eps=1e-05, elementwise_affine=True)\n",
       "        )\n",
       "        (1): MBartEncoderLayer(\n",
       "          (self_attn): MBartAttention(\n",
       "            (k_proj): Linear(in_features=768, out_features=768, bias=True)\n",
       "            (v_proj): Linear(in_features=768, out_features=768, bias=True)\n",
       "            (q_proj): Linear(in_features=768, out_features=768, bias=True)\n",
       "            (out_proj): Linear(in_features=768, out_features=768, bias=True)\n",
       "          )\n",
       "          (self_attn_layer_norm): LayerNorm((768,), eps=1e-05, elementwise_affine=True)\n",
       "          (activation_fn): GELUActivation()\n",
       "          (fc1): Linear(in_features=768, out_features=3072, bias=True)\n",
       "          (fc2): Linear(in_features=3072, out_features=768, bias=True)\n",
       "          (final_layer_norm): LayerNorm((768,), eps=1e-05, elementwise_affine=True)\n",
       "        )\n",
       "        (2): MBartEncoderLayer(\n",
       "          (self_attn): MBartAttention(\n",
       "            (k_proj): Linear(in_features=768, out_features=768, bias=True)\n",
       "            (v_proj): Linear(in_features=768, out_features=768, bias=True)\n",
       "            (q_proj): Linear(in_features=768, out_features=768, bias=True)\n",
       "            (out_proj): Linear(in_features=768, out_features=768, bias=True)\n",
       "          )\n",
       "          (self_attn_layer_norm): LayerNorm((768,), eps=1e-05, elementwise_affine=True)\n",
       "          (activation_fn): GELUActivation()\n",
       "          (fc1): Linear(in_features=768, out_features=3072, bias=True)\n",
       "          (fc2): Linear(in_features=3072, out_features=768, bias=True)\n",
       "          (final_layer_norm): LayerNorm((768,), eps=1e-05, elementwise_affine=True)\n",
       "        )\n",
       "        (3): MBartEncoderLayer(\n",
       "          (self_attn): MBartAttention(\n",
       "            (k_proj): Linear(in_features=768, out_features=768, bias=True)\n",
       "            (v_proj): Linear(in_features=768, out_features=768, bias=True)\n",
       "            (q_proj): Linear(in_features=768, out_features=768, bias=True)\n",
       "            (out_proj): Linear(in_features=768, out_features=768, bias=True)\n",
       "          )\n",
       "          (self_attn_layer_norm): LayerNorm((768,), eps=1e-05, elementwise_affine=True)\n",
       "          (activation_fn): GELUActivation()\n",
       "          (fc1): Linear(in_features=768, out_features=3072, bias=True)\n",
       "          (fc2): Linear(in_features=3072, out_features=768, bias=True)\n",
       "          (final_layer_norm): LayerNorm((768,), eps=1e-05, elementwise_affine=True)\n",
       "        )\n",
       "        (4): MBartEncoderLayer(\n",
       "          (self_attn): MBartAttention(\n",
       "            (k_proj): Linear(in_features=768, out_features=768, bias=True)\n",
       "            (v_proj): Linear(in_features=768, out_features=768, bias=True)\n",
       "            (q_proj): Linear(in_features=768, out_features=768, bias=True)\n",
       "            (out_proj): Linear(in_features=768, out_features=768, bias=True)\n",
       "          )\n",
       "          (self_attn_layer_norm): LayerNorm((768,), eps=1e-05, elementwise_affine=True)\n",
       "          (activation_fn): GELUActivation()\n",
       "          (fc1): Linear(in_features=768, out_features=3072, bias=True)\n",
       "          (fc2): Linear(in_features=3072, out_features=768, bias=True)\n",
       "          (final_layer_norm): LayerNorm((768,), eps=1e-05, elementwise_affine=True)\n",
       "        )\n",
       "        (5): MBartEncoderLayer(\n",
       "          (self_attn): MBartAttention(\n",
       "            (k_proj): Linear(in_features=768, out_features=768, bias=True)\n",
       "            (v_proj): Linear(in_features=768, out_features=768, bias=True)\n",
       "            (q_proj): Linear(in_features=768, out_features=768, bias=True)\n",
       "            (out_proj): Linear(in_features=768, out_features=768, bias=True)\n",
       "          )\n",
       "          (self_attn_layer_norm): LayerNorm((768,), eps=1e-05, elementwise_affine=True)\n",
       "          (activation_fn): GELUActivation()\n",
       "          (fc1): Linear(in_features=768, out_features=3072, bias=True)\n",
       "          (fc2): Linear(in_features=3072, out_features=768, bias=True)\n",
       "          (final_layer_norm): LayerNorm((768,), eps=1e-05, elementwise_affine=True)\n",
       "        )\n",
       "      )\n",
       "      (layernorm_embedding): LayerNorm((768,), eps=1e-05, elementwise_affine=True)\n",
       "      (layer_norm): LayerNorm((768,), eps=1e-05, elementwise_affine=True)\n",
       "    )\n",
       "    (decoder): MBartDecoder(\n",
       "      (embed_tokens): MBartScaledWordEmbedding(40004, 768, padding_idx=1)\n",
       "      (embed_positions): MBartLearnedPositionalEmbedding(1026, 768)\n",
       "      (layers): ModuleList(\n",
       "        (0): MBartDecoderLayer(\n",
       "          (self_attn): MBartAttention(\n",
       "            (k_proj): Linear(in_features=768, out_features=768, bias=True)\n",
       "            (v_proj): Linear(in_features=768, out_features=768, bias=True)\n",
       "            (q_proj): Linear(in_features=768, out_features=768, bias=True)\n",
       "            (out_proj): Linear(in_features=768, out_features=768, bias=True)\n",
       "          )\n",
       "          (activation_fn): GELUActivation()\n",
       "          (self_attn_layer_norm): LayerNorm((768,), eps=1e-05, elementwise_affine=True)\n",
       "          (encoder_attn): MBartAttention(\n",
       "            (k_proj): Linear(in_features=768, out_features=768, bias=True)\n",
       "            (v_proj): Linear(in_features=768, out_features=768, bias=True)\n",
       "            (q_proj): Linear(in_features=768, out_features=768, bias=True)\n",
       "            (out_proj): Linear(in_features=768, out_features=768, bias=True)\n",
       "          )\n",
       "          (encoder_attn_layer_norm): LayerNorm((768,), eps=1e-05, elementwise_affine=True)\n",
       "          (fc1): Linear(in_features=768, out_features=3072, bias=True)\n",
       "          (fc2): Linear(in_features=3072, out_features=768, bias=True)\n",
       "          (final_layer_norm): LayerNorm((768,), eps=1e-05, elementwise_affine=True)\n",
       "        )\n",
       "        (1): MBartDecoderLayer(\n",
       "          (self_attn): MBartAttention(\n",
       "            (k_proj): Linear(in_features=768, out_features=768, bias=True)\n",
       "            (v_proj): Linear(in_features=768, out_features=768, bias=True)\n",
       "            (q_proj): Linear(in_features=768, out_features=768, bias=True)\n",
       "            (out_proj): Linear(in_features=768, out_features=768, bias=True)\n",
       "          )\n",
       "          (activation_fn): GELUActivation()\n",
       "          (self_attn_layer_norm): LayerNorm((768,), eps=1e-05, elementwise_affine=True)\n",
       "          (encoder_attn): MBartAttention(\n",
       "            (k_proj): Linear(in_features=768, out_features=768, bias=True)\n",
       "            (v_proj): Linear(in_features=768, out_features=768, bias=True)\n",
       "            (q_proj): Linear(in_features=768, out_features=768, bias=True)\n",
       "            (out_proj): Linear(in_features=768, out_features=768, bias=True)\n",
       "          )\n",
       "          (encoder_attn_layer_norm): LayerNorm((768,), eps=1e-05, elementwise_affine=True)\n",
       "          (fc1): Linear(in_features=768, out_features=3072, bias=True)\n",
       "          (fc2): Linear(in_features=3072, out_features=768, bias=True)\n",
       "          (final_layer_norm): LayerNorm((768,), eps=1e-05, elementwise_affine=True)\n",
       "        )\n",
       "        (2): MBartDecoderLayer(\n",
       "          (self_attn): MBartAttention(\n",
       "            (k_proj): Linear(in_features=768, out_features=768, bias=True)\n",
       "            (v_proj): Linear(in_features=768, out_features=768, bias=True)\n",
       "            (q_proj): Linear(in_features=768, out_features=768, bias=True)\n",
       "            (out_proj): Linear(in_features=768, out_features=768, bias=True)\n",
       "          )\n",
       "          (activation_fn): GELUActivation()\n",
       "          (self_attn_layer_norm): LayerNorm((768,), eps=1e-05, elementwise_affine=True)\n",
       "          (encoder_attn): MBartAttention(\n",
       "            (k_proj): Linear(in_features=768, out_features=768, bias=True)\n",
       "            (v_proj): Linear(in_features=768, out_features=768, bias=True)\n",
       "            (q_proj): Linear(in_features=768, out_features=768, bias=True)\n",
       "            (out_proj): Linear(in_features=768, out_features=768, bias=True)\n",
       "          )\n",
       "          (encoder_attn_layer_norm): LayerNorm((768,), eps=1e-05, elementwise_affine=True)\n",
       "          (fc1): Linear(in_features=768, out_features=3072, bias=True)\n",
       "          (fc2): Linear(in_features=3072, out_features=768, bias=True)\n",
       "          (final_layer_norm): LayerNorm((768,), eps=1e-05, elementwise_affine=True)\n",
       "        )\n",
       "        (3): MBartDecoderLayer(\n",
       "          (self_attn): MBartAttention(\n",
       "            (k_proj): Linear(in_features=768, out_features=768, bias=True)\n",
       "            (v_proj): Linear(in_features=768, out_features=768, bias=True)\n",
       "            (q_proj): Linear(in_features=768, out_features=768, bias=True)\n",
       "            (out_proj): Linear(in_features=768, out_features=768, bias=True)\n",
       "          )\n",
       "          (activation_fn): GELUActivation()\n",
       "          (self_attn_layer_norm): LayerNorm((768,), eps=1e-05, elementwise_affine=True)\n",
       "          (encoder_attn): MBartAttention(\n",
       "            (k_proj): Linear(in_features=768, out_features=768, bias=True)\n",
       "            (v_proj): Linear(in_features=768, out_features=768, bias=True)\n",
       "            (q_proj): Linear(in_features=768, out_features=768, bias=True)\n",
       "            (out_proj): Linear(in_features=768, out_features=768, bias=True)\n",
       "          )\n",
       "          (encoder_attn_layer_norm): LayerNorm((768,), eps=1e-05, elementwise_affine=True)\n",
       "          (fc1): Linear(in_features=768, out_features=3072, bias=True)\n",
       "          (fc2): Linear(in_features=3072, out_features=768, bias=True)\n",
       "          (final_layer_norm): LayerNorm((768,), eps=1e-05, elementwise_affine=True)\n",
       "        )\n",
       "        (4): MBartDecoderLayer(\n",
       "          (self_attn): MBartAttention(\n",
       "            (k_proj): Linear(in_features=768, out_features=768, bias=True)\n",
       "            (v_proj): Linear(in_features=768, out_features=768, bias=True)\n",
       "            (q_proj): Linear(in_features=768, out_features=768, bias=True)\n",
       "            (out_proj): Linear(in_features=768, out_features=768, bias=True)\n",
       "          )\n",
       "          (activation_fn): GELUActivation()\n",
       "          (self_attn_layer_norm): LayerNorm((768,), eps=1e-05, elementwise_affine=True)\n",
       "          (encoder_attn): MBartAttention(\n",
       "            (k_proj): Linear(in_features=768, out_features=768, bias=True)\n",
       "            (v_proj): Linear(in_features=768, out_features=768, bias=True)\n",
       "            (q_proj): Linear(in_features=768, out_features=768, bias=True)\n",
       "            (out_proj): Linear(in_features=768, out_features=768, bias=True)\n",
       "          )\n",
       "          (encoder_attn_layer_norm): LayerNorm((768,), eps=1e-05, elementwise_affine=True)\n",
       "          (fc1): Linear(in_features=768, out_features=3072, bias=True)\n",
       "          (fc2): Linear(in_features=3072, out_features=768, bias=True)\n",
       "          (final_layer_norm): LayerNorm((768,), eps=1e-05, elementwise_affine=True)\n",
       "        )\n",
       "        (5): MBartDecoderLayer(\n",
       "          (self_attn): MBartAttention(\n",
       "            (k_proj): Linear(in_features=768, out_features=768, bias=True)\n",
       "            (v_proj): Linear(in_features=768, out_features=768, bias=True)\n",
       "            (q_proj): Linear(in_features=768, out_features=768, bias=True)\n",
       "            (out_proj): Linear(in_features=768, out_features=768, bias=True)\n",
       "          )\n",
       "          (activation_fn): GELUActivation()\n",
       "          (self_attn_layer_norm): LayerNorm((768,), eps=1e-05, elementwise_affine=True)\n",
       "          (encoder_attn): MBartAttention(\n",
       "            (k_proj): Linear(in_features=768, out_features=768, bias=True)\n",
       "            (v_proj): Linear(in_features=768, out_features=768, bias=True)\n",
       "            (q_proj): Linear(in_features=768, out_features=768, bias=True)\n",
       "            (out_proj): Linear(in_features=768, out_features=768, bias=True)\n",
       "          )\n",
       "          (encoder_attn_layer_norm): LayerNorm((768,), eps=1e-05, elementwise_affine=True)\n",
       "          (fc1): Linear(in_features=768, out_features=3072, bias=True)\n",
       "          (fc2): Linear(in_features=3072, out_features=768, bias=True)\n",
       "          (final_layer_norm): LayerNorm((768,), eps=1e-05, elementwise_affine=True)\n",
       "        )\n",
       "      )\n",
       "      (layernorm_embedding): LayerNorm((768,), eps=1e-05, elementwise_affine=True)\n",
       "      (layer_norm): LayerNorm((768,), eps=1e-05, elementwise_affine=True)\n",
       "    )\n",
       "  )\n",
       "  (lm_head): Linear(in_features=768, out_features=40004, bias=False)\n",
       ")"
      ]
     },
     "execution_count": 3,
     "metadata": {},
     "output_type": "execute_result"
    }
   ],
   "source": [
    "bart_model = MBartForConditionalGeneration.from_pretrained('indobenchmark/indobart')\n",
    "tokenizer = IndoNLGTokenizer.from_pretrained('indobenchmark/indobart')\n",
    "\n",
    "model = bart_model\n",
    "model"
   ]
  },
  {
   "cell_type": "code",
   "execution_count": 4,
   "id": "e2992106-cf65-4804-a393-d0a49026a659",
   "metadata": {},
   "outputs": [
    {
     "data": {
      "text/plain": [
       "131543040"
      ]
     },
     "execution_count": 4,
     "metadata": {},
     "output_type": "execute_result"
    }
   ],
   "source": [
    "count_param(model)"
   ]
  },
  {
   "cell_type": "markdown",
   "id": "6b04ba0a-b746-4188-9f2c-4366a5dd5882",
   "metadata": {},
   "source": [
    "# Prepare Dataset"
   ]
  },
  {
   "cell_type": "code",
   "execution_count": 5,
   "id": "b4a860b4-72b7-4432-8d32-4e6aea69ff26",
   "metadata": {},
   "outputs": [],
   "source": [
    "# configs and args\n",
    "\n",
    "lr = 1e-4\n",
    "gamma = 0.9\n",
    "lower = True\n",
    "step_size = 1\n",
    "beam_size = 5\n",
    "max_norm = 10\n",
    "early_stop = 5\n",
    "\n",
    "max_seq_len = 512\n",
    "grad_accumulate = 1\n",
    "no_special_token = False\n",
    "swap_source_target = True\n",
    "model_type = 'indo-bart'\n",
    "valid_criterion = 'SacreBLEU'\n",
    "\n",
    "separator_id = 4\n",
    "speaker_1_id = 5\n",
    "speaker_2_id = 5\n",
    "\n",
    "train_batch_size = 4\n",
    "valid_batch_size = 4\n",
    "test_batch_size = 4\n",
    "\n",
    "source_lang = \"[indonesian]\"\n",
    "target_lang = \"[indonesian]\"\n",
    "\n",
    "optimizer = optim.Adam(model.parameters(), lr=lr)\n",
    "src_lid = tokenizer.special_tokens_to_ids[source_lang]\n",
    "tgt_lid = tokenizer.special_tokens_to_ids[target_lang]\n",
    "\n",
    "model.config.decoder_start_token_id = tgt_lid\n",
    "\n",
    "# Make sure cuda is deterministic\n",
    "torch.backends.cudnn.deterministic = True\n",
    "\n",
    "# create directory\n",
    "model_dir = './save/qg/example_id_su'\n",
    "if not os.path.exists(model_dir):\n",
    "    os.makedirs(model_dir, exist_ok=True)\n",
    "\n",
    "device = 'cuda0'\n",
    "# set a specific cuda device\n",
    "if \"cuda\" in device:\n",
    "    torch.cuda.set_device(int(device[4:]))\n",
    "    device = \"cuda\"\n",
    "    model = model.cuda()"
   ]
  },
  {
   "cell_type": "code",
   "execution_count": 6,
   "id": "d5b2d855-7293-4577-861b-2235b7ac59f5",
   "metadata": {},
   "outputs": [],
   "source": [
    "train_dataset_path = './dataset/squad/vin_train_qg_bart-trainset.json'\n",
    "valid_dataset_path = './dataset/squad/vin_train_qg_bart-valset.json'\n",
    "test_dataset_path = './dataset/squad/vin_test_qg_bart.json'\n",
    "\n",
    "train_dataset = MachineTranslationDataset(train_dataset_path, tokenizer, lowercase=lower, no_special_token=no_special_token, \n",
    "                                            speaker_1_id=speaker_1_id, speaker_2_id=speaker_2_id, separator_id=separator_id,\n",
    "                                            max_token_length=max_seq_len, swap_source_target=swap_source_target)\n",
    "valid_dataset = MachineTranslationDataset(valid_dataset_path, tokenizer, lowercase=lower, no_special_token=no_special_token, \n",
    "                                            speaker_1_id=speaker_1_id, speaker_2_id=speaker_2_id, separator_id=separator_id,\n",
    "                                            max_token_length=max_seq_len, swap_source_target=swap_source_target)\n",
    "test_dataset = MachineTranslationDataset(test_dataset_path, tokenizer, lowercase=lower, no_special_token=no_special_token, \n",
    "                                            speaker_1_id=speaker_1_id, speaker_2_id=speaker_2_id, separator_id=separator_id,\n",
    "                                            max_token_length=max_seq_len, swap_source_target=swap_source_target)\n",
    "\n",
    "train_loader = GenerationDataLoader(dataset=train_dataset, model_type=model_type, tokenizer=tokenizer, max_seq_len=max_seq_len, \n",
    "                                    batch_size=train_batch_size, src_lid_token_id=src_lid, tgt_lid_token_id=tgt_lid, num_workers=8, shuffle=True)  \n",
    "valid_loader = GenerationDataLoader(dataset=valid_dataset, model_type=model_type, tokenizer=tokenizer, max_seq_len=max_seq_len, \n",
    "                                    batch_size=valid_batch_size, src_lid_token_id=src_lid, tgt_lid_token_id=tgt_lid, num_workers=8, shuffle=False)\n",
    "test_loader = GenerationDataLoader(dataset=test_dataset, model_type=model_type, tokenizer=tokenizer, max_seq_len=max_seq_len, \n",
    "                                   batch_size=test_batch_size, src_lid_token_id=src_lid, tgt_lid_token_id=tgt_lid, num_workers=8, shuffle=False)"
   ]
  },
  {
   "cell_type": "markdown",
   "id": "fb7d5a15-702a-4905-baba-9b80e0d8950e",
   "metadata": {},
   "source": [
    "# Test model to generate sequences"
   ]
  },
  {
   "cell_type": "code",
   "execution_count": 7,
   "id": "05dcbc78-d5c8-4094-84e4-dd6b0abb35c8",
   "metadata": {
    "tags": []
   },
   "outputs": [
    {
     "name": "stdout",
     "output_type": "stream",
     "text": [
      "<s> aku pergi ke toko obat membeli<mask></s>[indonesian]\n",
      "<s> aku pergi ke toko obat membeli obat jeung[indonesian]\n"
     ]
    }
   ],
   "source": [
    "inputs = ['aku pergi ke toko obat membeli <mask>']\n",
    "bart_input = tokenizer.prepare_input_for_generation(inputs, return_tensors='pt',\n",
    "                                         lang_token = '[indonesian]', decoder_lang_token='[indonesian]')\n",
    "\n",
    "bart_input.to(device)\n",
    "bart_out = model(**bart_input)\n",
    "print(tokenizer.decode(bart_input['input_ids'][0]))\n",
    "print(tokenizer.decode(bart_out.logits.topk(1).indices[:,:].squeeze()))"
   ]
  },
  {
   "cell_type": "code",
   "execution_count": 8,
   "id": "deb2e5af-6aa8-40db-b331-b3cf4f8b4d8a",
   "metadata": {},
   "outputs": [
    {
     "name": "stdout",
     "output_type": "stream",
     "text": [
      "<s> aku menyang pasar karo<mask></s>[javanese]\n",
      "<s> aku menyang pasar karo tuku,[javanese]\n"
     ]
    }
   ],
   "source": [
    "inputs = ['aku menyang pasar karo <mask>']\n",
    "bart_input = tokenizer.prepare_input_for_generation(inputs, return_tensors='pt',\n",
    "                                         lang_token = '[javanese]', decoder_lang_token='[javanese]')\n",
    "\n",
    "bart_input.to(device)\n",
    "bart_out = bart_model(**bart_input)\n",
    "print(tokenizer.decode(bart_input['input_ids'][0]))\n",
    "print(tokenizer.decode(bart_out.logits.topk(1).indices[:,:].squeeze()))"
   ]
  },
  {
   "cell_type": "code",
   "execution_count": 9,
   "id": "b1b37a52-c354-4bfd-ac84-e2220ff511b2",
   "metadata": {},
   "outputs": [
    {
     "name": "stdout",
     "output_type": "stream",
     "text": [
      "<s> kuring ka pasar senen meuli daging<mask></s>[sundanese]\n",
      "<s> kuring ka pasar senen meuli daging sapi, kuring\n"
     ]
    }
   ],
   "source": [
    "inputs = ['kuring ka pasar senen meuli daging <mask>']\n",
    "bart_input = tokenizer.prepare_input_for_generation(inputs, return_tensors='pt',\n",
    "                                         lang_token = '[sundanese]', decoder_lang_token='[sundanese]')\n",
    "\n",
    "bart_input.to(device)\n",
    "bart_out = bart_model(**bart_input)\n",
    "print(tokenizer.decode(bart_input['input_ids'][0]))\n",
    "print(tokenizer.decode(bart_out.logits.topk(1).indices[:,:].squeeze()))"
   ]
  },
  {
   "cell_type": "markdown",
   "id": "1c536a51-da36-4eb1-ad8d-3709ccf04b35",
   "metadata": {},
   "source": [
    "# Test model to translate"
   ]
  },
  {
   "cell_type": "code",
   "execution_count": 13,
   "id": "c7129644-069a-402f-9c5a-ff8d7ddc553f",
   "metadata": {},
   "outputs": [
    {
     "name": "stderr",
     "output_type": "stream",
     "text": [
      "  0%|          | 0/741 [00:00<?, ?it/s]c:\\Users\\Halim\\Playground\\Projects\\indonlg-ori\\venv\\lib\\site-packages\\transformers\\generation\\utils.py:1493: UserWarning: You have modified the pretrained model configuration to control generation. This is a deprecated strategy to control generation and will be removed in v5. Please use and modify the model generation configuration (see https://huggingface.co/docs/transformers/generation_strategies#default-text-generation-configuration )\n",
      "  warnings.warn(\n",
      "TESTING... : 100%|██████████| 741/741 [14:16<00:00,  1.16s/it]  \n"
     ]
    }
   ],
   "source": [
    "test_loss, test_metrics, test_hyp, test_label = evaluate(model, data_loader=test_loader, forward_fn=forward_generation, \n",
    "                                                         metrics_fn=generation_metrics_fn, model_type=model_type, \n",
    "                                                         tokenizer=tokenizer, beam_size=beam_size, \n",
    "                                                         max_seq_len=max_seq_len, is_test=True, \n",
    "                                                         device='cuda')"
   ]
  },
  {
   "cell_type": "code",
   "execution_count": 14,
   "id": "2b8d8625-b165-4a00-b232-fba3757a0ae1",
   "metadata": {},
   "outputs": [
    {
     "name": "stdout",
     "output_type": "stream",
     "text": [
      "== Prediction Result ==\n",
      "                                                 hyp  \\\n",
      "0                       negara apa normandia berada?   \n",
      "1                            normandia di normandia?   \n",
      "2                            negara mana asal norse?   \n",
      "3                                   jadi naon norse?   \n",
      "4   berapa pertama kali normandia mendapatkan ide...   \n",
      "\n",
      "                                               label  \n",
      "0   bangsa normandia (norman: nourmands; prancis:...  \n",
      "1   bangsa normandia (norman: nourmands; prancis:...  \n",
      "2   bangsa normandia (norman: nourmands; prancis:...  \n",
      "3   bangsa normandia (norman: nourmands; prancis:...  \n",
      "4   bangsa normandia (norman: nourmands; prancis:...  \n",
      "\n",
      "== Model Performance ==\n",
      "           BLEU  SacreBLEU    ROUGE1    ROUGE2    ROUGEL  ROUGELsum\n",
      "count  1.000000   1.000000  1.000000  1.000000  1.000000   1.000000\n",
      "mean   0.000014   0.000014  9.207036  3.583701  7.610349   7.608654\n",
      "std         NaN        NaN       NaN       NaN       NaN        NaN\n",
      "min    0.000014   0.000014  9.207036  3.583701  7.610349   7.608654\n",
      "25%    0.000014   0.000014  9.207036  3.583701  7.610349   7.608654\n",
      "50%    0.000014   0.000014  9.207036  3.583701  7.610349   7.608654\n",
      "75%    0.000014   0.000014  9.207036  3.583701  7.610349   7.608654\n",
      "max    0.000014   0.000014  9.207036  3.583701  7.610349   7.608654\n"
     ]
    }
   ],
   "source": [
    "metrics_scores = []\n",
    "result_dfs = []\n",
    "\n",
    "metrics_scores.append(test_metrics)\n",
    "result_dfs.append(pd.DataFrame({\n",
    "    'hyp': test_hyp, \n",
    "    'label': test_label\n",
    "}))\n",
    "\n",
    "result_df = pd.concat(result_dfs)\n",
    "metric_df = pd.DataFrame.from_records(metrics_scores)\n",
    "\n",
    "print('== Prediction Result ==')\n",
    "print(result_df.head())\n",
    "print()\n",
    "\n",
    "print('== Model Performance ==')\n",
    "print(metric_df.describe())\n",
    "\n",
    "result_df.to_csv(model_dir + \"/prediction_result.csv\")\n",
    "metric_df.describe().to_csv(model_dir + \"/evaluation_result.csv\")"
   ]
  },
  {
   "cell_type": "markdown",
   "id": "77f680f4-c4a7-4b59-b3d3-6978107e669e",
   "metadata": {},
   "source": [
    "# Fine Tuning & Evaluation"
   ]
  },
  {
   "cell_type": "code",
   "execution_count": 10,
   "id": "43c9c26d-6768-4229-8ce1-6b306e7fbde0",
   "metadata": {},
   "outputs": [
    {
     "name": "stderr",
     "output_type": "stream",
     "text": [
      "(Epoch 1) TRAIN LOSS:3.3869 LR:0.00010000: 100%|██████████| 6000/6000 [25:28<00:00,  3.93it/s] \n"
     ]
    },
    {
     "name": "stdout",
     "output_type": "stream",
     "text": [
      "(Epoch 1) TRAIN LOSS:3.3869 BLEU:14.64 SacreBLEU:15.54 ROUGE1:43.92 ROUGE2:11.97 ROUGEL:33.37 ROUGELsum:33.36 LR:0.00010000\n"
     ]
    },
    {
     "name": "stderr",
     "output_type": "stream",
     "text": [
      "VALID LOSS:4.8151: 100%|██████████| 1500/1500 [02:06<00:00, 11.87it/s]\n"
     ]
    },
    {
     "name": "stdout",
     "output_type": "stream",
     "text": [
      "(Epoch 1) VALID LOSS:4.8151 BLEU:5.70 SacreBLEU:6.00 ROUGE1:35.97 ROUGE2:4.93 ROUGEL:22.69 ROUGELsum:22.69\n"
     ]
    }
   ],
   "source": [
    "# Train\n",
    "\n",
    "n_epochs = 1\n",
    "\n",
    "train(model, train_loader=train_loader, valid_loader=valid_loader, optimizer=optimizer, \n",
    "      forward_fn=forward_generation, metrics_fn=generation_metrics_fn, valid_criterion=valid_criterion, \n",
    "      tokenizer=tokenizer, n_epochs=n_epochs, evaluate_every=1, early_stop=early_stop, \n",
    "      grad_accum=grad_accumulate, step_size=step_size, gamma=gamma, \n",
    "      max_norm=max_norm, model_type=model_type, beam_size=beam_size,\n",
    "      max_seq_len=max_seq_len, model_dir=model_dir, exp_id=0, fp16=\"\", device=device)"
   ]
  },
  {
   "cell_type": "code",
   "execution_count": 11,
   "id": "442293e2-628d-4fbb-acb2-8f49803120b0",
   "metadata": {},
   "outputs": [
    {
     "data": {
      "text/plain": [
       "<All keys matched successfully>"
      ]
     },
     "execution_count": 11,
     "metadata": {},
     "output_type": "execute_result"
    }
   ],
   "source": [
    "# Load best model\n",
    "model.load_state_dict(torch.load(model_dir + \"/best_model_0.th\"))"
   ]
  },
  {
   "cell_type": "code",
   "execution_count": null,
   "id": "9fdc5583-a665-414d-acb5-17fcfc373e25",
   "metadata": {},
   "outputs": [
    {
     "name": "stderr",
     "output_type": "stream",
     "text": [
      "  0%|          | 0/1482 [00:00<?, ?it/s]c:\\Users\\Halim\\Playground\\Projects\\indonlg-ori\\venv\\lib\\site-packages\\transformers\\generation\\utils.py:1493: UserWarning: You have modified the pretrained model configuration to control generation. This is a deprecated strategy to control generation and will be removed in v5. Please use and modify the model generation configuration (see https://huggingface.co/docs/transformers/generation_strategies#default-text-generation-configuration )\n",
      "  warnings.warn(\n",
      "TESTING... :   2%|▏         | 28/1482 [00:53<37:00,  1.53s/it]  "
     ]
    }
   ],
   "source": [
    "# Evaluate\n",
    "test_loss, test_metrics, test_hyp, test_label = evaluate(model, data_loader=test_loader, forward_fn=forward_generation, \n",
    "                                                         metrics_fn=generation_metrics_fn, model_type=model_type, \n",
    "                                                         tokenizer=tokenizer, beam_size=beam_size, \n",
    "                                                         max_seq_len=max_seq_len, is_test=True, \n",
    "                                                         device='cuda')"
   ]
  },
  {
   "cell_type": "code",
   "execution_count": 16,
   "id": "0fa4fdd8-0364-442e-b93f-f4f668ec5bde",
   "metadata": {},
   "outputs": [
    {
     "name": "stdout",
     "output_type": "stream",
     "text": [
      "== Prediction Result ==\n",
      "                                                 hyp  \\\n",
      "0   ku sabab eta, simkuring teu sadar kana naon-n...   \n",
      "1   maranehna, kabeh, dalaharna, nepi ka sarerea ...   \n",
      "2   ku sabab eta, urang teh beunang manusa-manusa...   \n",
      "3   jelema-jelema anu suci, kabeh oge, kabeh suci...   \n",
      "4   geus kitu, petrus, yahya, jeung yahya dipiwar...   \n",
      "\n",
      "                                               label  \n",
      "0   da teu terang naon-naon, tur can tangtu simku...  \n",
      "1         terus kabeh dalalahar nepi ka sareubeuhna.  \n",
      "2   sabab urang mah darma dadamelan allah, anu ge...  \n",
      "3   pikeun anu hatena suci mah, sagala ge suci. s...  \n",
      "4   sanggeus leupas, petrus jeung yahya nepangan ...  \n",
      "\n",
      "== Model Performance ==\n",
      "            BLEU  SacreBLEU     ROUGE1     ROUGE2     ROUGEL  ROUGELsum\n",
      "count   1.000000   1.000000   1.000000   1.000000   1.000000   1.000000\n",
      "mean   11.323039  11.271977  35.564586  12.995558  30.761829  30.763307\n",
      "std          NaN        NaN        NaN        NaN        NaN        NaN\n",
      "min    11.323039  11.271977  35.564586  12.995558  30.761829  30.763307\n",
      "25%    11.323039  11.271977  35.564586  12.995558  30.761829  30.763307\n",
      "50%    11.323039  11.271977  35.564586  12.995558  30.761829  30.763307\n",
      "75%    11.323039  11.271977  35.564586  12.995558  30.761829  30.763307\n",
      "max    11.323039  11.271977  35.564586  12.995558  30.761829  30.763307\n"
     ]
    }
   ],
   "source": [
    "metrics_scores = []\n",
    "result_dfs = []\n",
    "\n",
    "metrics_scores.append(test_metrics)\n",
    "result_dfs.append(pd.DataFrame({\n",
    "    'hyp': test_hyp, \n",
    "    'label': test_label\n",
    "}))\n",
    "\n",
    "result_df = pd.concat(result_dfs)\n",
    "metric_df = pd.DataFrame.from_records(metrics_scores)\n",
    "\n",
    "print('== Prediction Result ==')\n",
    "print(result_df.head())\n",
    "print()\n",
    "\n",
    "print('== Model Performance ==')\n",
    "print(metric_df.describe())\n",
    "\n",
    "result_df.to_csv(model_dir + \"/prediction_result.csv\")\n",
    "metric_df.describe().to_csv(model_dir + \"/evaluation_result.csv\")"
   ]
  }
 ],
 "metadata": {
  "kernelspec": {
   "display_name": "venv",
   "language": "python",
   "name": "python3"
  },
  "language_info": {
   "codemirror_mode": {
    "name": "ipython",
    "version": 3
   },
   "file_extension": ".py",
   "mimetype": "text/x-python",
   "name": "python",
   "nbconvert_exporter": "python",
   "pygments_lexer": "ipython3",
   "version": "3.8.5"
  }
 },
 "nbformat": 4,
 "nbformat_minor": 5
}
